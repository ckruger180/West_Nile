{
 "cells": [
  {
   "cell_type": "markdown",
   "metadata": {},
   "source": [
    "# West Nile Virus in Chicago"
   ]
  },
  {
   "cell_type": "markdown",
   "metadata": {},
   "source": [
    "## Overview"
   ]
  },
  {
   "cell_type": "markdown",
   "metadata": {},
   "source": [
    "There is an epidemic of the West Nile virus that is currently moving its way through the Chicago area. Working for the CDC, our aim is predict where and when the West Nile virus will appear in the local mosquito population. With these predictions we hope to inform the Chicago Health Department on where to spray mosquito pesticides. Since pesticides are both generally harmful for human consumption and fairly expensive, the goal is to use the minimum amount necessary for maximum impact. \n",
    "\n",
    "The starting point for our data exploration will be discovering where the mosquitoes have progressed up until this point. Combining historical West Nile location data with weather data, we can pinpoint what seasons and time of year that mosquitoes are most prevalent. This can finally be mixed with the historical pesticide spray data to gain insight into how effective certain pesticides are throughout the year. \n",
    "\n",
    "Our initial hypothesis is that there will be the greatest influx of mosquitoes shortly after rain due to the fact that they lay eggs in standing water. This growth rate is further exacerbated by carbon dioxide, so we will want to compare the growth rate of mosquitoes in Chicago proper versus suburban Chicago. "
   ]
  },
  {
   "cell_type": "markdown",
   "metadata": {},
   "source": [
    "## Project Plan"
   ]
  },
  {
   "cell_type": "markdown",
   "metadata": {},
   "source": [
    "The end result of our project is a model that predicts where new clusters of West Nile virus are likely to appear.\n",
    "\n",
    "Components of this project:\n",
    "    - EDA for feature correlations\n",
    "    - Generate data preprocessing pipeline for present and future cleaning\n",
    "        - Enconding categorical features\n",
    "        - Scaling data\n",
    "        - Dealing with NaNs\n",
    "        - Normalizing any features\n",
    "        - Dimensionality reduction \n",
    "    - Evaluate model selection\n",
    "    - Test best performing model on testing data\n",
    "    - Present results"
   ]
  },
  {
   "cell_type": "code",
   "execution_count": 2,
   "metadata": {
    "collapsed": false
   },
   "outputs": [],
   "source": [
    "import pandas as pd\n",
    "import numpy as np\n",
    "import matplotlib.pyplot as plt\n",
    "%matplotlib inline"
   ]
  },
  {
   "cell_type": "code",
   "execution_count": 9,
   "metadata": {
    "collapsed": false
   },
   "outputs": [],
   "source": [
    "train = pd.read_csv('assets/train.csv')\n",
    "test = pd.read_csv('assets/test.csv')\n",
    "spray = pd.read_csv('assets/spray.csv')\n",
    "weather = pd.read_csv('assets/weather.csv')"
   ]
  },
  {
   "cell_type": "code",
   "execution_count": null,
   "metadata": {
    "collapsed": true
   },
   "outputs": [],
   "source": []
  }
 ],
 "metadata": {
  "kernelspec": {
   "display_name": "Python [Root]",
   "language": "python",
   "name": "Python [Root]"
  },
  "language_info": {
   "codemirror_mode": {
    "name": "ipython",
    "version": 2
   },
   "file_extension": ".py",
   "mimetype": "text/x-python",
   "name": "python",
   "nbconvert_exporter": "python",
   "pygments_lexer": "ipython2",
   "version": "2.7.11"
  }
 },
 "nbformat": 4,
 "nbformat_minor": 0
}
